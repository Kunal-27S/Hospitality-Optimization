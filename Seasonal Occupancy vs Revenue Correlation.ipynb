{
 "cells": [
  {
   "cell_type": "code",
   "execution_count": 9,
   "id": "0d9f37cc-7327-4a72-a691-0f5084e00f1b",
   "metadata": {},
   "outputs": [],
   "source": [
    "import pandas as pd\n",
    "import seaborn as sns\n",
    "from matplotlib import pyplot as plt"
   ]
  },
  {
   "cell_type": "code",
   "execution_count": 10,
   "id": "ae3f6755-5b73-4be6-9783-b30ad44dd556",
   "metadata": {},
   "outputs": [],
   "source": [
    "fact_bookings_df = pd.read_csv('fact_bookings.csv',)\n",
    "fact_aggregated_bookings_df = pd.read_csv('fact_aggregated_bookings.csv')"
   ]
  },
  {
   "cell_type": "code",
   "execution_count": 11,
   "id": "386cbd5a-1a74-4407-b0f8-cef204c8f4e0",
   "metadata": {},
   "outputs": [],
   "source": [
    "# TO find the correlation between revenue and seasonal occupancy\n",
    "\n",
    "# creating a dictionary to map each room to type.\n",
    "rooms = {}\n",
    "dim_rooms_df = pd.read_csv('dim_rooms.csv')\n",
    "for id in dim_rooms_df['room_id']:\n",
    "    rooms[id] = dim_rooms_df['room_class']"
   ]
  },
  {
   "cell_type": "code",
   "execution_count": 12,
   "id": "3b1636b5-9952-47a3-aac6-7f869805fc4e",
   "metadata": {},
   "outputs": [],
   "source": [
    "# creating a dictionary to map each date to month(seasonal occupancy)\n",
    "dates = {}\n",
    "dim_date_df = pd.read_csv('dim_date.csv')\n",
    "for date in dim_date_df['date']:\n",
    "    dates[date] = dim_date_df['mmm yy']"
   ]
  },
  {
   "cell_type": "code",
   "execution_count": 13,
   "id": "63fe2b66-3dc2-4dba-be13-b1c24776d97f",
   "metadata": {},
   "outputs": [],
   "source": [
    "# loading the data_frame that contains the data for each hotel based on hotel_id\n",
    "dim_hotels_df = pd.read_csv('dim_hotels.csv')"
   ]
  },
  {
   "cell_type": "code",
   "execution_count": 14,
   "id": "9804ed8f-ae71-4e54-b59e-92d397d364cb",
   "metadata": {},
   "outputs": [],
   "source": [
    "# for each month season, find the net percentage of rooms occupied vs capacity\n",
    "seasonal_occupancy = {}\n",
    "for i in range(len(fact_aggregated_bookings_df)):\n",
    "    date = pd.to_datetime(fact_aggregated_bookings_df.loc[i, 'check_in_date'])\n",
    "    month = date.month\n",
    "    occupancy_percent = (fact_aggregated_bookings_df.loc[i, 'successful_bookings'] * 100) / fact_aggregated_bookings_df.loc[i, 'capacity']\n",
    "    \n",
    "    if month in seasonal_occupancy:\n",
    "        seasonal_occupancy[month].append(occupancy_percent)\n",
    "    else:\n",
    "        seasonal_occupancy[month] = [occupancy_percent]\n",
    "# computing the average seasonal occupancy        \n",
    "average_seasonal_occupancy = {month: sum(percents)/len(percents) for month, percents in seasonal_occupancy.items()}\n"
   ]
  },
  {
   "cell_type": "code",
   "execution_count": null,
   "id": "1bfeb113-7cea-4205-86f5-721b502bd60f",
   "metadata": {},
   "outputs": [],
   "source": [
    "# for each month season, find the net revenue realised.\n",
    "seasonal_revenue = {}\n",
    "for i in range(len(fact_bookings_df)):\n",
    "    date = pd.to_datetime(fact_bookings_df.loc[i, 'check_in_date'])\n",
    "    month = date.month\n",
    "    revenue = fact_bookings_df.loc[i, 'revenue_realized']\n",
    "    \n",
    "    if month in seasonal_revenue:\n",
    "        seasonal_revenue[month] += revenue\n",
    "    else:\n",
    "        seasonal_revenue[month] = revenue"
   ]
  },
  {
   "cell_type": "code",
   "execution_count": null,
   "id": "0b7465fe-c756-4692-8fdb-3204802d81b4",
   "metadata": {},
   "outputs": [],
   "source": [
    "# plot the data\n",
    "df_plot = pd.DataFrame({\n",
    "    'Month': list(seasonal_revenue.keys()),\n",
    "    'Revenue': list(seasonal_revenue.values()),\n",
    "    'Occupancy (%)': [average_seasonal_occupancy[month] for month in seasonal_revenue.keys()]\n",
    "})\n",
    "\n",
    "# Optional: sort by month\n",
    "df_plot = df_plot.sort_values(by='Month')\n",
    "\n",
    "# Optional: map month number to name\n",
    "month_map = {5: 'May', 6: 'Jun', 7: 'Jul'}\n",
    "\n",
    "df_plot['Month'] = df_plot['Month'].map(month_map)\n",
    "\n",
    "fig, ax1 = plt.subplots(figsize=(10, 6))\n",
    "\n",
    "sns.barplot(x='Month', y='Revenue', data=df_plot, ax=ax1, color='lightblue',width = 0.3)\n",
    "ax1.set_ylabel('Net Realized Revenue', color='darkblue')\n",
    "ax1.tick_params(axis='y', labelcolor='darkblue')\n",
    "\n",
    "for i, v in enumerate(df_plot['Revenue']):\n",
    "    ax1.text(i, 0, f'{v:.0f}', color='blue', fontsize=9, ha='center', va='bottom')\n",
    "    \n",
    "ax2 = ax1.twinx()\n",
    "sns.lineplot(x='Month', y='Occupancy (%)', data=df_plot, ax=ax2, color='green', marker='o')\n",
    "ax2.set_ylabel('Avg. Seasonal Occupancy (%)', color='green')\n",
    "ax2.tick_params(axis='y', labelcolor='green')\n",
    "for x, y in zip(df_plot['Month'], df_plot['Occupancy (%)']):\n",
    "    ax2.text(x, y, f'{y:.1f}%', color='black', fontsize=9, ha='center', va='bottom')\n",
    "# correlation\n",
    "df = pd.DataFrame({\n",
    "    'Revenue': pd.Series(seasonal_revenue),\n",
    "    'Occupancy': pd.Series(average_seasonal_occupancy)\n",
    "})\n",
    "correlation = df.corr().loc['Revenue', 'Occupancy']\n",
    "ax1.text(0.22, 0.95, f'Correlation: {correlation:.2f}', transform=ax1.transAxes,\n",
    "         fontsize=12, verticalalignment='top', bbox=dict(boxstyle=\"round\", fc=\"wheat\", ec=\"black\"))\n",
    "plt.title('Monthly Realized Revenue vs. Average Seasonal Occupancy Percentage')\n",
    "plt.tight_layout()\n",
    "plt.show()\n"
   ]
  },
  {
   "cell_type": "code",
   "execution_count": null,
   "id": "bc92980e-7986-496d-8d4e-27e732a71166",
   "metadata": {},
   "outputs": [],
   "source": []
  }
 ],
 "metadata": {
  "kernelspec": {
   "display_name": "Python 3 (ipykernel)",
   "language": "python",
   "name": "python3"
  },
  "language_info": {
   "codemirror_mode": {
    "name": "ipython",
    "version": 3
   },
   "file_extension": ".py",
   "mimetype": "text/x-python",
   "name": "python",
   "nbconvert_exporter": "python",
   "pygments_lexer": "ipython3",
   "version": "3.12.1"
  }
 },
 "nbformat": 4,
 "nbformat_minor": 5
}
